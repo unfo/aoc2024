{
 "cells": [
  {
   "cell_type": "markdown",
   "metadata": {},
   "source": [
    "# AoC 2024 - Day 3\n",
    "## Part 1\n",
    "\n",
    "The computer appears to be trying to run a program, but its memory (your puzzle input) is corrupted. All of the instructions have been jumbled up!\n",
    "\n",
    "It seems like the goal of the program is just to multiply some numbers. It does that with instructions like `mul(X,Y)`, where X and Y are each 1-3 digit numbers. \n",
    "\n",
    "For instance, `mul(44,46)` multiplies 44 by 46 to get a result of 2024. Similarly, mul(123,4) would multiply 123 by 4.\n",
    "\n",
    "However, because the program's memory has been corrupted, there are also many invalid characters that should be ignored, even if they look like part of a mul instruction. Sequences like mul(4*, mul(6,9!, ?(12,34), or mul ( 2 , 4 ) do nothing.\n",
    "\n",
    "x`mul(2,4)`%&mul[3,7]!@^do_not_`mul(5,5)`+mul(32,64]then(`mul(11,8)mul(8,5)`)\n",
    "\n",
    "Only the four highlighted sections are real mul instructions. Adding up the result of each instruction produces 161 (2*4 + 5*5 + 11*8 + 8*5)."
   ]
  },
  {
   "cell_type": "code",
   "execution_count": null,
   "metadata": {},
   "outputs": [],
   "source": [
    "DEBUG = False\n",
    "def log(str):\n",
    "    if DEBUG:\n",
    "        print(str)"
   ]
  },
  {
   "cell_type": "code",
   "execution_count": 1,
   "metadata": {},
   "outputs": [],
   "source": [
    "import re\n",
    "opre = re.compile(r'mul\\((?P<left>\\d{1,3}),(?P<right>\\d{1,3})\\)')\n",
    "\n",
    "def parse(input):\n",
    "    ops = []\n",
    "    for match in re.finditer(opre, input):\n",
    "        l = int(match.group('left'))\n",
    "        r = int(match.group('right'))\n",
    "        ops.append((l, r))\n",
    "    return ops\n",
    "\n",
    "\n",
    "def part1(input):\n",
    "    operations = parse(input)\n",
    "    return sum([a*b for [a,b] in operations])"
   ]
  },
  {
   "cell_type": "code",
   "execution_count": 2,
   "metadata": {},
   "outputs": [
    {
     "name": "stdout",
     "output_type": "stream",
     "text": [
      "161 expected\n",
      "161 actual\n",
      "Great success!\n"
     ]
    }
   ],
   "source": [
    "example_input = \"\"\"xmul(2,4)%&mul[3,7]!@^do_not_mul(5,5)+mul(32,64]then(mul(11,8)mul(8,5))\"\"\"\n",
    "expected_output = 161\n",
    "\n",
    "\n",
    "output = part1(example_input)\n",
    "print(f'{expected_output} expected\\n{output} actual')\n",
    "if expected_output == output:\n",
    "    print('Great success!')"
   ]
  },
  {
   "cell_type": "code",
   "execution_count": 3,
   "metadata": {},
   "outputs": [
    {
     "name": "stdout",
     "output_type": "stream",
     "text": [
      "170068701 part 1 result\n"
     ]
    }
   ],
   "source": [
    "# Real data\n",
    "\n",
    "with open('input.txt','r') as infile:\n",
    "    input = infile.read()\n",
    "output = part1(input)\n",
    "print(f'{output} part 1 result')"
   ]
  },
  {
   "cell_type": "markdown",
   "metadata": {},
   "source": [
    "## Part 2\n",
    "\n",
    "There are two new instructions you'll need to handle:\n",
    "\n",
    "- The `do()` instruction enables future mul instructions.\n",
    "- The `don't()` instruction disables future mul instructions.\n",
    "\n",
    "Only the most recent `do()` or `don't()` instruction applies. At the beginning of the program, `mul` instructions are **enabled**."
   ]
  },
  {
   "cell_type": "code",
   "execution_count": 36,
   "metadata": {},
   "outputs": [],
   "source": [
    "from pprint import pp\n",
    "op_mul =r'((?P<opmul>mul)\\((?P<left>\\d{1,3}),(?P<right>\\d{1,3})\\))'\n",
    "op_do = r'((?P<opdo>do)\\(\\))'\n",
    "op_dont = r\"((?P<opdont>don't)\\(\\))\"\n",
    "op_combined = re.compile('|'.join([op_mul, op_do, op_dont]))\n",
    "def parse(input):\n",
    "    ops = []\n",
    "    mul_enabled = True\n",
    "    for match in re.finditer(op_combined, input):\n",
    "        opname = match.group(2)\n",
    "        if match.group('opdo') is not None:\n",
    "            mul_enabled = True\n",
    "        elif match.group('opdont') is not None:\n",
    "            mul_enabled = False\n",
    "        else:\n",
    "            if mul_enabled:\n",
    "                l = int(match.group('left'))\n",
    "                r = int(match.group('right'))\n",
    "                ops.append((l, r))\n",
    "    return ops\n",
    "\n",
    "def part2(input):\n",
    "    operations = parse(input)\n",
    "    return sum([a*b for [a,b] in operations])"
   ]
  },
  {
   "cell_type": "code",
   "execution_count": 37,
   "metadata": {},
   "outputs": [
    {
     "name": "stdout",
     "output_type": "stream",
     "text": [
      "None\n",
      "None\n"
     ]
    },
    {
     "ename": "IndexError",
     "evalue": "no such group",
     "output_type": "error",
     "traceback": [
      "\u001b[0;31m---------------------------------------------------------------------------\u001b[0m",
      "\u001b[0;31mIndexError\u001b[0m                                Traceback (most recent call last)",
      "Cell \u001b[0;32mIn[37], line 3\u001b[0m\n\u001b[1;32m      1\u001b[0m example_input \u001b[38;5;241m=\u001b[39m \u001b[38;5;124m\"\"\"\u001b[39m\u001b[38;5;124mxmul(2,4)&mul[3,7]!^don\u001b[39m\u001b[38;5;124m'\u001b[39m\u001b[38;5;124mt()_mul(5,5)+mul(32,64](mul(11,8)undo()?mul(8,5))\u001b[39m\u001b[38;5;124m\"\"\"\u001b[39m\n\u001b[1;32m      2\u001b[0m expected_output \u001b[38;5;241m=\u001b[39m \u001b[38;5;241m48\u001b[39m\n\u001b[0;32m----> 3\u001b[0m output \u001b[38;5;241m=\u001b[39m \u001b[43mpart2\u001b[49m\u001b[43m(\u001b[49m\u001b[43mexample_input\u001b[49m\u001b[43m)\u001b[49m\n\u001b[1;32m      4\u001b[0m \u001b[38;5;28mprint\u001b[39m(\u001b[38;5;124mf\u001b[39m\u001b[38;5;124m'\u001b[39m\u001b[38;5;132;01m{\u001b[39;00mexpected_output\u001b[38;5;132;01m}\u001b[39;00m\u001b[38;5;124m expected\u001b[39m\u001b[38;5;130;01m\\n\u001b[39;00m\u001b[38;5;132;01m{\u001b[39;00moutput\u001b[38;5;132;01m}\u001b[39;00m\u001b[38;5;124m actual\u001b[39m\u001b[38;5;124m'\u001b[39m)\n\u001b[1;32m      5\u001b[0m \u001b[38;5;28;01mif\u001b[39;00m expected_output \u001b[38;5;241m==\u001b[39m output:\n",
      "Cell \u001b[0;32mIn[36], line 27\u001b[0m, in \u001b[0;36mpart2\u001b[0;34m(input)\u001b[0m\n\u001b[1;32m     26\u001b[0m \u001b[38;5;28;01mdef\u001b[39;00m\u001b[38;5;250m \u001b[39m\u001b[38;5;21mpart2\u001b[39m(\u001b[38;5;28minput\u001b[39m):\n\u001b[0;32m---> 27\u001b[0m     operations \u001b[38;5;241m=\u001b[39m \u001b[43mparse\u001b[49m\u001b[43m(\u001b[49m\u001b[38;5;28;43minput\u001b[39;49m\u001b[43m)\u001b[49m\n\u001b[1;32m     28\u001b[0m     \u001b[38;5;28;01mreturn\u001b[39;00m \u001b[38;5;28msum\u001b[39m([a\u001b[38;5;241m*\u001b[39mb \u001b[38;5;28;01mfor\u001b[39;00m [a,b] \u001b[38;5;129;01min\u001b[39;00m operations])\n",
      "Cell \u001b[0;32mIn[36], line 12\u001b[0m, in \u001b[0;36mparse\u001b[0;34m(input)\u001b[0m\n\u001b[1;32m     10\u001b[0m pp(match\u001b[38;5;241m.\u001b[39mgroup(\u001b[38;5;124m'\u001b[39m\u001b[38;5;124mopdo\u001b[39m\u001b[38;5;124m'\u001b[39m))\n\u001b[1;32m     11\u001b[0m pp(match\u001b[38;5;241m.\u001b[39mgroup(\u001b[38;5;124m'\u001b[39m\u001b[38;5;124mopdont\u001b[39m\u001b[38;5;124m'\u001b[39m))\n\u001b[0;32m---> 12\u001b[0m pp(\u001b[43mmatch\u001b[49m\u001b[38;5;241;43m.\u001b[39;49m\u001b[43mgroup\u001b[49m\u001b[43m(\u001b[49m\u001b[38;5;124;43m'\u001b[39;49m\u001b[38;5;124;43mmul\u001b[39;49m\u001b[38;5;124;43m'\u001b[39;49m\u001b[43m)\u001b[49m)\n\u001b[1;32m     13\u001b[0m \u001b[38;5;28mprint\u001b[39m(\u001b[38;5;124m'\u001b[39m\u001b[38;5;124m-----\u001b[39m\u001b[38;5;124m'\u001b[39m)\n\u001b[1;32m     14\u001b[0m \u001b[38;5;66;03m# opname = match.group(2)\u001b[39;00m\n\u001b[1;32m     15\u001b[0m \u001b[38;5;66;03m# if opname == \"do()\":\u001b[39;00m\n\u001b[1;32m     16\u001b[0m \u001b[38;5;66;03m#     mul_enabled = True\u001b[39;00m\n\u001b[0;32m   (...)\u001b[0m\n\u001b[1;32m     22\u001b[0m \u001b[38;5;66;03m#         r = int(match.group(4))\u001b[39;00m\n\u001b[1;32m     23\u001b[0m \u001b[38;5;66;03m#         ops.append((l, r))\u001b[39;00m\n",
      "\u001b[0;31mIndexError\u001b[0m: no such group"
     ]
    }
   ],
   "source": [
    "example_input = \"\"\"xmul(2,4)&mul[3,7]!^don't()_mul(5,5)+mul(32,64](mul(11,8)undo()?mul(8,5))\"\"\"\n",
    "expected_output = 48\n",
    "output = part2(example_input)\n",
    "print(f'{expected_output} expected\\n{output} actual')\n",
    "if expected_output == output:\n",
    "    print('Great success!')"
   ]
  },
  {
   "cell_type": "code",
   "execution_count": null,
   "metadata": {},
   "outputs": [],
   "source": []
  }
 ],
 "metadata": {
  "kernelspec": {
   "display_name": ".venv",
   "language": "python",
   "name": "python3"
  },
  "language_info": {
   "codemirror_mode": {
    "name": "ipython",
    "version": 3
   },
   "file_extension": ".py",
   "mimetype": "text/x-python",
   "name": "python",
   "nbconvert_exporter": "python",
   "pygments_lexer": "ipython3",
   "version": "3.10.12"
  }
 },
 "nbformat": 4,
 "nbformat_minor": 2
}
