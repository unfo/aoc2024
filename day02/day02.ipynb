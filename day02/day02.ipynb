{
 "cells": [
  {
   "cell_type": "markdown",
   "metadata": {},
   "source": [
    "# AoC 2024 - Day 2\n",
    "## Part 1\n",
    "\n",
    "your puzzle input consists of many reports, one report per line. Each report is a list of numbers called levels that are separated by spaces\n",
    "\n",
    "```\n",
    "7 6 4 2 1\n",
    "1 2 7 8 9\n",
    "9 7 6 2 1\n",
    "1 3 2 4 5\n",
    "8 6 4 4 1\n",
    "1 3 6 7 9\n",
    "```\n",
    "\n",
    "This example data contains six reports each containing five levels.\n",
    "\n",
    "a report only counts as **safe** if both of the following are true:\n",
    "\n",
    "- The levels are either all increasing or all decreasing.\n",
    "- Any two adjacent levels differ by at least one and at most three.\n",
    "\n",
    "\n",
    "- `7 6 4 2 1`: **Safe** because the levels are all decreasing by 1 or 2.\n",
    "- `1 2 7 8 9`: **Unsafe** because 2 7 is an increase of 5.\n",
    "- `9 7 6 2 1`: **Unsafe** because 6 2 is a decrease of 4.\n",
    "- `1 3 2 4 5`: **Unsafe** because 1 3 is increasing but 3 2 is decreasing.\n",
    "- `8 6 4 4 1`: **Unsafe** because 4 4 is neither an increase or a decrease.\n",
    "- `1 3 6 7 9`: **Safe** because the levels are all increasing by 1, 2, or 3.\n",
    "\n",
    "Analyze the unusual data from the engineers. How many reports are **safe**?"
   ]
  },
  {
   "cell_type": "markdown",
   "metadata": {},
   "source": []
  },
  {
   "cell_type": "code",
   "execution_count": 37,
   "metadata": {},
   "outputs": [],
   "source": [
    "DEBUG = False\n",
    "def log(str):\n",
    "    if DEBUG:\n",
    "        print(str)"
   ]
  },
  {
   "cell_type": "code",
   "execution_count": 38,
   "metadata": {},
   "outputs": [],
   "source": [
    "def string_to_int_array(input):\n",
    "    return [int(x) for x in input.split()]\n",
    "\n",
    "def parse_input(input):\n",
    "    lines = input.splitlines()\n",
    "    return list(map(string_to_int_array, lines))\n",
    "\n",
    "\n",
    "def is_safe(report):\n",
    "    deltas = [b - a for [a,b] in zip(report, report[1:])]\n",
    "    dmin = min(deltas)\n",
    "    dmax = max(deltas)\n",
    "    zeros = deltas.count(0)\n",
    "    if dmin < -3 or dmax > 3:\n",
    "        log(f'Unsafe: Too steep [{max([abs(dmin), abs(dmax)])}]\\t|\\t {report} -> {deltas}')\n",
    "        return False\n",
    "    if zeros > 0:\n",
    "        log(f'Unsafe: flat {zeros} zeros\\t|\\t {report} -> {deltas}')\n",
    "        return False\n",
    "    if dmin < 0 and dmax > 0:\n",
    "        log(f'Unsafe: +- [{dmin} .. {dmax}]\\t|\\t {report} -> {deltas}')\n",
    "        return False\n",
    "    log(f'Safe: {dmin} .. {dmax}, {zeros} x 0\\t|\\t {report} -> {deltas}')\n",
    "    return True\n",
    "    \n",
    "\n",
    "def part1(input):\n",
    "    reports = parse_input(input)\n",
    "    return [is_safe(report) for report in reports].count(True)"
   ]
  },
  {
   "cell_type": "code",
   "execution_count": 39,
   "metadata": {},
   "outputs": [
    {
     "name": "stdout",
     "output_type": "stream",
     "text": [
      "2 expected\n",
      "2 actual\n",
      "Great success!\n"
     ]
    }
   ],
   "source": [
    "# Example data\n",
    "\n",
    "example_input = \"\"\"7 6 4 2 1\n",
    "1 2 7 8 9\n",
    "9 7 6 2 1\n",
    "1 3 2 4 5\n",
    "8 6 4 4 1\n",
    "1 3 6 7 9\"\"\"\n",
    "\n",
    "expected_output = 2\n",
    "\n",
    "output = part1(example_input)\n",
    "print(f'{expected_output} expected\\n{output} actual')\n",
    "if expected_output == output:\n",
    "    print('Great success!')"
   ]
  },
  {
   "cell_type": "code",
   "execution_count": 40,
   "metadata": {},
   "outputs": [
    {
     "name": "stdout",
     "output_type": "stream",
     "text": [
      "279 part 1 result\n"
     ]
    }
   ],
   "source": [
    "# Real data\n",
    "\n",
    "with open('input.txt','r') as infile:\n",
    "    input = infile.read()\n",
    "output = part1(input)\n",
    "print(f'{output} part 1 result')\n",
    "# actually it was the right answer after all... i don't know what i typoed"
   ]
  },
  {
   "cell_type": "markdown",
   "metadata": {},
   "source": [
    "## Part 2\n",
    "\n",
    "The Problem Dampener is a reactor-mounted module that lets the reactor safety systems tolerate a single bad level in what would otherwise be a safe report. It's like the bad level never happened!\n",
    "\n",
    "Now, the same rules apply as before, except if removing a single level from an unsafe report would make it safe, the report instead counts as safe.\n",
    "\n",
    "\n",
    "- `7 6 4 2 1`: Safe without removing any level.\n",
    "- `1 2 7 8 9`: Unsafe regardless of which level is removed.\n",
    "- `9 7 6 2 1`: Unsafe regardless of which level is removed.\n",
    "- `1 3 2 4 5`: Safe by removing the second level, 3.\n",
    "- `8 6 4 4 1`: Safe by removing the third level, 4.\n",
    "- `1 3 6 7 9`: Safe without removing any level.\n",
    "\n",
    "Thanks to the Problem Dampener, 4 reports are actually safe!"
   ]
  },
  {
   "cell_type": "code",
   "execution_count": 43,
   "metadata": {},
   "outputs": [],
   "source": [
    "from itertools import combinations\n",
    "def is_safe_with_mods(report, maxMods=1):\n",
    "    if is_safe(report):\n",
    "        return True\n",
    "    return any([is_safe(modified) for modified in combinations(report, len(report)-maxMods)])\n",
    "\n",
    "def part2(input):\n",
    "    reports = parse_input(input)\n",
    "    return [is_safe_with_mods(report) for report in reports].count(True)"
   ]
  },
  {
   "cell_type": "code",
   "execution_count": 45,
   "metadata": {},
   "outputs": [
    {
     "name": "stdout",
     "output_type": "stream",
     "text": [
      "4 expected\n",
      "2 actual\n"
     ]
    }
   ],
   "source": [
    "expected_output = 4\n",
    "output = part2(example_input)\n",
    "print(f'{expected_output} expected\\n{output} actual')\n",
    "if expected_output == output:\n",
    "    print('Great success!')"
   ]
  },
  {
   "cell_type": "code",
   "execution_count": 42,
   "metadata": {},
   "outputs": [
    {
     "data": {
      "text/plain": [
       "[(1, 3, 2, 4), (1, 3, 2, 5), (1, 3, 4, 5), (1, 2, 4, 5), (3, 2, 4, 5)]"
      ]
     },
     "execution_count": 42,
     "metadata": {},
     "output_type": "execute_result"
    }
   ],
   "source": [
    "\n",
    "foo = [1,3,2,4,5]\n",
    "list(combinations(foo, 4))"
   ]
  },
  {
   "cell_type": "code",
   "execution_count": null,
   "metadata": {},
   "outputs": [],
   "source": []
  }
 ],
 "metadata": {
  "kernelspec": {
   "display_name": ".venv",
   "language": "python",
   "name": "python3"
  },
  "language_info": {
   "codemirror_mode": {
    "name": "ipython",
    "version": 3
   },
   "file_extension": ".py",
   "mimetype": "text/x-python",
   "name": "python",
   "nbconvert_exporter": "python",
   "pygments_lexer": "ipython3",
   "version": "3.10.12"
  }
 },
 "nbformat": 4,
 "nbformat_minor": 2
}
