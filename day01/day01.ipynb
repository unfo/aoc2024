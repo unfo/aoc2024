{
 "cells": [
  {
   "cell_type": "markdown",
   "metadata": {},
   "source": [
    "# Advent of Code 2024\n",
    "## Day 1\n",
    "### Part 1\n",
    "\n",
    "```\n",
    "3   4\n",
    "4   3\n",
    "2   5\n",
    "1   3\n",
    "3   9\n",
    "3   3\n",
    "```\n",
    "\n",
    "Pair up the smallest number in the left list with the smallest number in the right list, then the second-smallest left number with the second-smallest right number, and so on.\n",
    "\n",
    "Within each pair, figure out how far apart the two numbers are; you'll need to add up all of those distances."
   ]
  },
  {
   "cell_type": "code",
   "execution_count": 1,
   "metadata": {},
   "outputs": [],
   "source": [
    "example_input = \"\"\"3   4\n",
    "4   3\n",
    "2   5\n",
    "1   3\n",
    "3   9\n",
    "3   3\n",
    "\"\"\"\n",
    "expected_output = 11"
   ]
  },
  {
   "cell_type": "code",
   "execution_count": 7,
   "metadata": {},
   "outputs": [],
   "source": [
    "from ctypes import ArgumentError\n",
    "\n",
    "\n",
    "def split_into_two(input):\n",
    "    left = []\n",
    "    right = []\n",
    "    for line in input.splitlines():\n",
    "        l,r = line.split(sep=None, maxsplit=2)\n",
    "        left.append(int(l))\n",
    "        right.append(int(r))\n",
    "    return (left, right)\n",
    "\n",
    "def distances_for(a, b):\n",
    "    if len(a) != len(b):\n",
    "        raise ArgumentError(\"Mismatched array sizes\")\n",
    "    return [abs(l - r) for [l, r] in zip(a, b)]\n",
    "\n",
    "def part1(input):\n",
    "    (left, right) = split_into_two(input)\n",
    "    left = sorted(left)\n",
    "    right = sorted(right)\n",
    "    distances = distances_for(left, right)\n",
    "    return sum(distances)\n"
   ]
  },
  {
   "cell_type": "code",
   "execution_count": 8,
   "metadata": {},
   "outputs": [
    {
     "name": "stdout",
     "output_type": "stream",
     "text": [
      "11 expected\n",
      "11 actual\n",
      "Great success!\n"
     ]
    }
   ],
   "source": [
    "# Example data\n",
    "\n",
    "output = part1(example_input)\n",
    "print(f'{expected_output} expected\\n{output} actual')\n",
    "if expected_output == output:\n",
    "    print('Great success!')"
   ]
  },
  {
   "cell_type": "code",
   "execution_count": null,
   "metadata": {},
   "outputs": [],
   "source": [
    "# Real data\n",
    "\n",
    "with open('input.txt','r') as infile:\n",
    "    input = infile.read()\n",
    "output = part1(input)\n",
    "print(f'{output} part 1 result')"
   ]
  }
 ],
 "metadata": {
  "kernelspec": {
   "display_name": "Python 3 (ipykernel)",
   "language": "python",
   "name": "python3"
  },
  "language_info": {
   "codemirror_mode": {
    "name": "ipython",
    "version": 3
   },
   "file_extension": ".py",
   "mimetype": "text/x-python",
   "name": "python",
   "nbconvert_exporter": "python",
   "pygments_lexer": "ipython3",
   "version": "3.10.12"
  }
 },
 "nbformat": 4,
 "nbformat_minor": 2
}
